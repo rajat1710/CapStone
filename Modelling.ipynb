{
 "cells": [
  {
   "cell_type": "code",
   "execution_count": 1,
   "metadata": {},
   "outputs": [],
   "source": [
    "import pandas as pd\n",
    "import numpy as np\n",
    "import seaborn as sns\n",
    "import matplotlib.pyplot as plt\n",
    "%matplotlib inline\n",
    "import warnings\n",
    "warnings.filterwarnings ('ignore')\n",
    "pd.set_option('display.max_rows',150)\n",
    "pd.set_option('display.max_columns',60)"
   ]
  },
  {
   "cell_type": "code",
   "execution_count": 2,
   "metadata": {},
   "outputs": [],
   "source": [
    "df = pd.read_csv('DataAfterEDA.csv')"
   ]
  },
  {
   "cell_type": "code",
   "execution_count": 3,
   "metadata": {},
   "outputs": [],
   "source": [
    "year = pd.DataFrame()\n",
    "year['issue_d'] = df['issue_d'].values"
   ]
  },
  {
   "cell_type": "code",
   "execution_count": 4,
   "metadata": {},
   "outputs": [],
   "source": [
    "target = pd.DataFrame()\n",
    "target['loan_status'] = df['loan_status']\n",
    "target.replace(['Fully Paid','Charged Off'],[1,0],inplace=True)\n",
    "\n",
    "# 1 is for loan sanctioned\n",
    "# 0 is for loan not being sanctioned"
   ]
  },
  {
   "cell_type": "code",
   "execution_count": 5,
   "metadata": {},
   "outputs": [],
   "source": [
    "e= {'10+ years': 11,\n",
    " '< 1 year': 1,\n",
    " '1 year': 2,\n",
    " '3 years': 4,\n",
    " '8 years': 9,\n",
    " '9 years': 10,\n",
    " '4 years': 5,\n",
    " '5 years': 6,\n",
    " '6 years': 7,\n",
    " '2 years': 3,\n",
    " '7 years': 8}\n",
    "df['emp_length'] = df['emp_length'].map(e)"
   ]
  },
  {
   "cell_type": "code",
   "execution_count": 6,
   "metadata": {},
   "outputs": [],
   "source": [
    "g = {'B': 2, 'C': 3, 'A': 1, 'E': 5, 'F': 6, 'D': 4, 'G': 7}\n",
    "df['grade'] = df['grade'].map(g)"
   ]
  },
  {
   "cell_type": "code",
   "execution_count": 7,
   "metadata": {},
   "outputs": [],
   "source": [
    "df.drop(['issue_d','issue_y','addr_state'],axis=1,inplace=True)"
   ]
  },
  {
   "cell_type": "code",
   "execution_count": 8,
   "metadata": {},
   "outputs": [
    {
     "data": {
      "text/html": [
       "<div>\n",
       "<style scoped>\n",
       "    .dataframe tbody tr th:only-of-type {\n",
       "        vertical-align: middle;\n",
       "    }\n",
       "\n",
       "    .dataframe tbody tr th {\n",
       "        vertical-align: top;\n",
       "    }\n",
       "\n",
       "    .dataframe thead th {\n",
       "        text-align: right;\n",
       "    }\n",
       "</style>\n",
       "<table border=\"1\" class=\"dataframe\">\n",
       "  <thead>\n",
       "    <tr style=\"text-align: right;\">\n",
       "      <th></th>\n",
       "      <th>loan_amnt</th>\n",
       "      <th>term</th>\n",
       "      <th>int_rate</th>\n",
       "      <th>installment</th>\n",
       "      <th>grade</th>\n",
       "      <th>emp_length</th>\n",
       "      <th>home_ownership</th>\n",
       "      <th>annual_inc</th>\n",
       "      <th>verification_status</th>\n",
       "      <th>loan_status</th>\n",
       "      <th>purpose</th>\n",
       "      <th>dti</th>\n",
       "      <th>delinq_2yrs</th>\n",
       "      <th>inq_last_6mths</th>\n",
       "      <th>open_acc</th>\n",
       "      <th>pub_rec</th>\n",
       "      <th>revol_bal</th>\n",
       "      <th>revol_util</th>\n",
       "      <th>total_acc</th>\n",
       "      <th>pub_rec_bankruptcies</th>\n",
       "      <th>fico_avg</th>\n",
       "    </tr>\n",
       "  </thead>\n",
       "  <tbody>\n",
       "    <tr>\n",
       "      <td>0</td>\n",
       "      <td>5000.0</td>\n",
       "      <td>36 months</td>\n",
       "      <td>10.65</td>\n",
       "      <td>162.87</td>\n",
       "      <td>2</td>\n",
       "      <td>11</td>\n",
       "      <td>RENT</td>\n",
       "      <td>24000.0</td>\n",
       "      <td>Verified</td>\n",
       "      <td>Fully Paid</td>\n",
       "      <td>credit_card</td>\n",
       "      <td>27.65</td>\n",
       "      <td>0.0</td>\n",
       "      <td>1.0</td>\n",
       "      <td>3.0</td>\n",
       "      <td>0.0</td>\n",
       "      <td>13648.0</td>\n",
       "      <td>83.7</td>\n",
       "      <td>9.0</td>\n",
       "      <td>0.0</td>\n",
       "      <td>737.0</td>\n",
       "    </tr>\n",
       "    <tr>\n",
       "      <td>1</td>\n",
       "      <td>2500.0</td>\n",
       "      <td>60 months</td>\n",
       "      <td>15.27</td>\n",
       "      <td>59.83</td>\n",
       "      <td>3</td>\n",
       "      <td>1</td>\n",
       "      <td>RENT</td>\n",
       "      <td>30000.0</td>\n",
       "      <td>Source Verified</td>\n",
       "      <td>Charged Off</td>\n",
       "      <td>car</td>\n",
       "      <td>1.00</td>\n",
       "      <td>0.0</td>\n",
       "      <td>5.0</td>\n",
       "      <td>3.0</td>\n",
       "      <td>0.0</td>\n",
       "      <td>1687.0</td>\n",
       "      <td>9.4</td>\n",
       "      <td>4.0</td>\n",
       "      <td>0.0</td>\n",
       "      <td>742.0</td>\n",
       "    </tr>\n",
       "    <tr>\n",
       "      <td>2</td>\n",
       "      <td>2400.0</td>\n",
       "      <td>36 months</td>\n",
       "      <td>15.96</td>\n",
       "      <td>84.33</td>\n",
       "      <td>3</td>\n",
       "      <td>11</td>\n",
       "      <td>RENT</td>\n",
       "      <td>12252.0</td>\n",
       "      <td>Not Verified</td>\n",
       "      <td>Fully Paid</td>\n",
       "      <td>small_business</td>\n",
       "      <td>8.72</td>\n",
       "      <td>0.0</td>\n",
       "      <td>2.0</td>\n",
       "      <td>2.0</td>\n",
       "      <td>0.0</td>\n",
       "      <td>2956.0</td>\n",
       "      <td>98.5</td>\n",
       "      <td>10.0</td>\n",
       "      <td>0.0</td>\n",
       "      <td>737.0</td>\n",
       "    </tr>\n",
       "    <tr>\n",
       "      <td>3</td>\n",
       "      <td>10000.0</td>\n",
       "      <td>36 months</td>\n",
       "      <td>13.49</td>\n",
       "      <td>339.31</td>\n",
       "      <td>3</td>\n",
       "      <td>11</td>\n",
       "      <td>RENT</td>\n",
       "      <td>49200.0</td>\n",
       "      <td>Source Verified</td>\n",
       "      <td>Fully Paid</td>\n",
       "      <td>other</td>\n",
       "      <td>20.00</td>\n",
       "      <td>0.0</td>\n",
       "      <td>1.0</td>\n",
       "      <td>10.0</td>\n",
       "      <td>0.0</td>\n",
       "      <td>5598.0</td>\n",
       "      <td>21.0</td>\n",
       "      <td>37.0</td>\n",
       "      <td>0.0</td>\n",
       "      <td>692.0</td>\n",
       "    </tr>\n",
       "    <tr>\n",
       "      <td>4</td>\n",
       "      <td>3000.0</td>\n",
       "      <td>60 months</td>\n",
       "      <td>12.69</td>\n",
       "      <td>67.79</td>\n",
       "      <td>2</td>\n",
       "      <td>2</td>\n",
       "      <td>RENT</td>\n",
       "      <td>80000.0</td>\n",
       "      <td>Source Verified</td>\n",
       "      <td>Fully Paid</td>\n",
       "      <td>other</td>\n",
       "      <td>17.94</td>\n",
       "      <td>0.0</td>\n",
       "      <td>0.0</td>\n",
       "      <td>15.0</td>\n",
       "      <td>0.0</td>\n",
       "      <td>27783.0</td>\n",
       "      <td>53.9</td>\n",
       "      <td>38.0</td>\n",
       "      <td>0.0</td>\n",
       "      <td>697.0</td>\n",
       "    </tr>\n",
       "  </tbody>\n",
       "</table>\n",
       "</div>"
      ],
      "text/plain": [
       "   loan_amnt        term  int_rate  installment  grade  emp_length  \\\n",
       "0     5000.0   36 months     10.65       162.87      2          11   \n",
       "1     2500.0   60 months     15.27        59.83      3           1   \n",
       "2     2400.0   36 months     15.96        84.33      3          11   \n",
       "3    10000.0   36 months     13.49       339.31      3          11   \n",
       "4     3000.0   60 months     12.69        67.79      2           2   \n",
       "\n",
       "  home_ownership  annual_inc verification_status  loan_status         purpose  \\\n",
       "0           RENT     24000.0            Verified   Fully Paid     credit_card   \n",
       "1           RENT     30000.0     Source Verified  Charged Off             car   \n",
       "2           RENT     12252.0        Not Verified   Fully Paid  small_business   \n",
       "3           RENT     49200.0     Source Verified   Fully Paid           other   \n",
       "4           RENT     80000.0     Source Verified   Fully Paid           other   \n",
       "\n",
       "     dti  delinq_2yrs  inq_last_6mths  open_acc  pub_rec  revol_bal  \\\n",
       "0  27.65          0.0             1.0       3.0      0.0    13648.0   \n",
       "1   1.00          0.0             5.0       3.0      0.0     1687.0   \n",
       "2   8.72          0.0             2.0       2.0      0.0     2956.0   \n",
       "3  20.00          0.0             1.0      10.0      0.0     5598.0   \n",
       "4  17.94          0.0             0.0      15.0      0.0    27783.0   \n",
       "\n",
       "   revol_util  total_acc  pub_rec_bankruptcies  fico_avg  \n",
       "0        83.7        9.0                   0.0     737.0  \n",
       "1         9.4        4.0                   0.0     742.0  \n",
       "2        98.5       10.0                   0.0     737.0  \n",
       "3        21.0       37.0                   0.0     692.0  \n",
       "4        53.9       38.0                   0.0     697.0  "
      ]
     },
     "execution_count": 8,
     "metadata": {},
     "output_type": "execute_result"
    }
   ],
   "source": [
    "df.head()"
   ]
  },
  {
   "cell_type": "code",
   "execution_count": 9,
   "metadata": {},
   "outputs": [
    {
     "data": {
      "image/png": "[encoded data removed]",
      "text/plain": [
       "<Figure size 864x720 with 2 Axes>"
      ]
     },
     "metadata": {
      "needs_background": "light"
     },
     "output_type": "display_data"
    }
   ],
   "source": [
    "df['loan_status'] = df['loan_status'].replace(['Fully Paid','Charged Off'],[1,0])\n",
    "plt.figure(figsize=(12,10))\n",
    "sns.heatmap(df.corr(),annot=True)\n",
    "plt.show()\n",
    "df = df.drop('loan_status',axis=1)"
   ]
  },
  {
   "cell_type": "code",
   "execution_count": 10,
   "metadata": {},
   "outputs": [],
   "source": [
    "df= pd.get_dummies(df,drop_first=True)"
   ]
  },
  {
   "cell_type": "code",
   "execution_count": 11,
   "metadata": {},
   "outputs": [],
   "source": [
    "from statsmodels.stats.outliers_influence import variance_inflation_factor"
   ]
  },
  {
   "cell_type": "code",
   "execution_count": 12,
   "metadata": {},
   "outputs": [],
   "source": [
    "df = df.drop(['int_rate','installment'],axis=1)\n",
    "df['constant'] = 1\n",
    "vif = [variance_inflation_factor (df.values,i) for i in range(df.shape[1])]"
   ]
  },
  {
   "cell_type": "code",
   "execution_count": 13,
   "metadata": {},
   "outputs": [
    {
     "data": {
      "text/html": [
       "<div>\n",
       "<style scoped>\n",
       "    .dataframe tbody tr th:only-of-type {\n",
       "        vertical-align: middle;\n",
       "    }\n",
       "\n",
       "    .dataframe tbody tr th {\n",
       "        vertical-align: top;\n",
       "    }\n",
       "\n",
       "    .dataframe thead th {\n",
       "        text-align: right;\n",
       "    }\n",
       "</style>\n",
       "<table border=\"1\" class=\"dataframe\">\n",
       "  <thead>\n",
       "    <tr style=\"text-align: right;\">\n",
       "      <th></th>\n",
       "      <th>vif</th>\n",
       "    </tr>\n",
       "  </thead>\n",
       "  <tbody>\n",
       "    <tr>\n",
       "      <td>loan_amnt</td>\n",
       "      <td>1.993435</td>\n",
       "    </tr>\n",
       "    <tr>\n",
       "      <td>grade</td>\n",
       "      <td>3.495671</td>\n",
       "    </tr>\n",
       "    <tr>\n",
       "      <td>emp_length</td>\n",
       "      <td>1.129509</td>\n",
       "    </tr>\n",
       "    <tr>\n",
       "      <td>annual_inc</td>\n",
       "      <td>1.373083</td>\n",
       "    </tr>\n",
       "    <tr>\n",
       "      <td>dti</td>\n",
       "      <td>1.377940</td>\n",
       "    </tr>\n",
       "    <tr>\n",
       "      <td>delinq_2yrs</td>\n",
       "      <td>1.136015</td>\n",
       "    </tr>\n",
       "    <tr>\n",
       "      <td>inq_last_6mths</td>\n",
       "      <td>1.065228</td>\n",
       "    </tr>\n",
       "    <tr>\n",
       "      <td>open_acc</td>\n",
       "      <td>2.156384</td>\n",
       "    </tr>\n",
       "    <tr>\n",
       "      <td>pub_rec</td>\n",
       "      <td>3.383757</td>\n",
       "    </tr>\n",
       "    <tr>\n",
       "      <td>revol_bal</td>\n",
       "      <td>1.537738</td>\n",
       "    </tr>\n",
       "    <tr>\n",
       "      <td>revol_util</td>\n",
       "      <td>1.996907</td>\n",
       "    </tr>\n",
       "    <tr>\n",
       "      <td>total_acc</td>\n",
       "      <td>2.288429</td>\n",
       "    </tr>\n",
       "    <tr>\n",
       "      <td>pub_rec_bankruptcies</td>\n",
       "      <td>3.348514</td>\n",
       "    </tr>\n",
       "    <tr>\n",
       "      <td>fico_avg</td>\n",
       "      <td>3.504705</td>\n",
       "    </tr>\n",
       "    <tr>\n",
       "      <td>term_ 60 months</td>\n",
       "      <td>1.590415</td>\n",
       "    </tr>\n",
       "    <tr>\n",
       "      <td>home_ownership_OTHER</td>\n",
       "      <td>1.007529</td>\n",
       "    </tr>\n",
       "    <tr>\n",
       "      <td>home_ownership_OWN</td>\n",
       "      <td>1.114405</td>\n",
       "    </tr>\n",
       "    <tr>\n",
       "      <td>home_ownership_RENT</td>\n",
       "      <td>1.407852</td>\n",
       "    </tr>\n",
       "    <tr>\n",
       "      <td>verification_status_Source Verified</td>\n",
       "      <td>1.238758</td>\n",
       "    </tr>\n",
       "    <tr>\n",
       "      <td>verification_status_Verified</td>\n",
       "      <td>1.497265</td>\n",
       "    </tr>\n",
       "    <tr>\n",
       "      <td>purpose_credit_card</td>\n",
       "      <td>3.982989</td>\n",
       "    </tr>\n",
       "    <tr>\n",
       "      <td>purpose_debt_consolidation</td>\n",
       "      <td>7.403801</td>\n",
       "    </tr>\n",
       "    <tr>\n",
       "      <td>purpose_educational</td>\n",
       "      <td>1.213828</td>\n",
       "    </tr>\n",
       "    <tr>\n",
       "      <td>purpose_home_improvement</td>\n",
       "      <td>2.788208</td>\n",
       "    </tr>\n",
       "    <tr>\n",
       "      <td>purpose_house</td>\n",
       "      <td>1.250514</td>\n",
       "    </tr>\n",
       "    <tr>\n",
       "      <td>purpose_major_purchase</td>\n",
       "      <td>2.299471</td>\n",
       "    </tr>\n",
       "    <tr>\n",
       "      <td>purpose_medical</td>\n",
       "      <td>1.429756</td>\n",
       "    </tr>\n",
       "    <tr>\n",
       "      <td>purpose_moving</td>\n",
       "      <td>1.367774</td>\n",
       "    </tr>\n",
       "    <tr>\n",
       "      <td>purpose_other</td>\n",
       "      <td>3.259042</td>\n",
       "    </tr>\n",
       "    <tr>\n",
       "      <td>purpose_renewable_energy</td>\n",
       "      <td>1.062755</td>\n",
       "    </tr>\n",
       "    <tr>\n",
       "      <td>purpose_small_business</td>\n",
       "      <td>2.165514</td>\n",
       "    </tr>\n",
       "    <tr>\n",
       "      <td>purpose_vacation</td>\n",
       "      <td>1.229476</td>\n",
       "    </tr>\n",
       "    <tr>\n",
       "      <td>purpose_wedding</td>\n",
       "      <td>1.609346</td>\n",
       "    </tr>\n",
       "    <tr>\n",
       "      <td>constant</td>\n",
       "      <td>1692.243269</td>\n",
       "    </tr>\n",
       "  </tbody>\n",
       "</table>\n",
       "</div>"
      ],
      "text/plain": [
       "                                             vif\n",
       "loan_amnt                               1.993435\n",
       "grade                                   3.495671\n",
       "emp_length                              1.129509\n",
       "annual_inc                              1.373083\n",
       "dti                                     1.377940\n",
       "delinq_2yrs                             1.136015\n",
       "inq_last_6mths                          1.065228\n",
       "open_acc                                2.156384\n",
       "pub_rec                                 3.383757\n",
       "revol_bal                               1.537738\n",
       "revol_util                              1.996907\n",
       "total_acc                               2.288429\n",
       "pub_rec_bankruptcies                    3.348514\n",
       "fico_avg                                3.504705\n",
       "term_ 60 months                         1.590415\n",
       "home_ownership_OTHER                    1.007529\n",
       "home_ownership_OWN                      1.114405\n",
       "home_ownership_RENT                     1.407852\n",
       "verification_status_Source Verified     1.238758\n",
       "verification_status_Verified            1.497265\n",
       "purpose_credit_card                     3.982989\n",
       "purpose_debt_consolidation              7.403801\n",
       "purpose_educational                     1.213828\n",
       "purpose_home_improvement                2.788208\n",
       "purpose_house                           1.250514\n",
       "purpose_major_purchase                  2.299471\n",
       "purpose_medical                         1.429756\n",
       "purpose_moving                          1.367774\n",
       "purpose_other                           3.259042\n",
       "purpose_renewable_energy                1.062755\n",
       "purpose_small_business                  2.165514\n",
       "purpose_vacation                        1.229476\n",
       "purpose_wedding                         1.609346\n",
       "constant                             1692.243269"
      ]
     },
     "execution_count": 13,
     "metadata": {},
     "output_type": "execute_result"
    }
   ],
   "source": [
    "pd.DataFrame({'vif':vif},index=df.columns)"
   ]
  },
  {
   "cell_type": "code",
   "execution_count": 14,
   "metadata": {},
   "outputs": [],
   "source": [
    "df.drop('constant',axis=1,inplace=True)\n",
    "df = df.merge(year,left_index=True, right_index=True,how='inner')\n",
    "df = df.merge(target,left_index=True, right_index=True,how='inner')"
   ]
  },
  {
   "cell_type": "code",
   "execution_count": 15,
   "metadata": {},
   "outputs": [],
   "source": [
    "test = df[((df['issue_d']=='Dec-2011') | (df['issue_d']== 'Nov-2011') | (df['issue_d']== 'Oct-2011') | (df['issue_d']== 'Sep-2011'))]\n",
    "test.drop('issue_d',axis=1,inplace=True)\n",
    "train = df[~ ((df['issue_d']=='Dec-2011') | (df['issue_d']== 'Nov-2011') | (df['issue_d']== 'Oct-2011') | (df['issue_d']== 'Sep-2011'))]\n",
    "train.drop('issue_d',axis=1,inplace=True)"
   ]
  },
  {
   "cell_type": "code",
   "execution_count": 16,
   "metadata": {},
   "outputs": [],
   "source": [
    "xtrain = train.drop('loan_status',axis=1)\n",
    "ytrain = train['loan_status']\n",
    "xtest = test.drop('loan_status',axis=1)\n",
    "ytest = test['loan_status']"
   ]
  },
  {
   "cell_type": "markdown",
   "metadata": {},
   "source": [
    "### Basic Logistic Regression"
   ]
  },
  {
   "cell_type": "code",
   "execution_count": 17,
   "metadata": {},
   "outputs": [],
   "source": [
    "from sklearn.linear_model import LogisticRegression\n",
    "log = LogisticRegression(random_state=7)"
   ]
  },
  {
   "cell_type": "code",
   "execution_count": 18,
   "metadata": {},
   "outputs": [],
   "source": [
    "# from sklearn.model_selection import GridSearchCV\n",
    "# params = {\"penalty\": ['l1', 'l2'], 'C': [0.001, 0.01, 0.1, 1, 10, 100, 1000]}\n",
    "# grid = GridSearchCV(estimator=log,param_grid=params,cv=10,)"
   ]
  },
  {
   "cell_type": "code",
   "execution_count": 19,
   "metadata": {},
   "outputs": [],
   "source": [
    "# grid.fit(xtrain,ytrain)"
   ]
  },
  {
   "cell_type": "code",
   "execution_count": 20,
   "metadata": {},
   "outputs": [],
   "source": [
    "# grid.best_params_"
   ]
  },
  {
   "cell_type": "code",
   "execution_count": 21,
   "metadata": {},
   "outputs": [],
   "source": [
    "log = LogisticRegression(random_state=7,C=0.1,penalty='l1')"
   ]
  },
  {
   "cell_type": "code",
   "execution_count": 22,
   "metadata": {},
   "outputs": [
    {
     "data": {
      "text/plain": [
       "LogisticRegression(C=0.1, class_weight=None, dual=False, fit_intercept=True,\n",
       "                   intercept_scaling=1, l1_ratio=None, max_iter=100,\n",
       "                   multi_class='warn', n_jobs=None, penalty='l1',\n",
       "                   random_state=7, solver='warn', tol=0.0001, verbose=0,\n",
       "                   warm_start=False)"
      ]
     },
     "execution_count": 22,
     "metadata": {},
     "output_type": "execute_result"
    }
   ],
   "source": [
    "log.fit(xtrain,ytrain)"
   ]
  },
  {
   "cell_type": "code",
   "execution_count": 23,
   "metadata": {},
   "outputs": [],
   "source": [
    "pred = log.predict(xtest)"
   ]
  },
  {
   "cell_type": "code",
   "execution_count": 24,
   "metadata": {},
   "outputs": [
    {
     "data": {
      "text/plain": [
       "0.8640408701384311"
      ]
     },
     "execution_count": 24,
     "metadata": {},
     "output_type": "execute_result"
    }
   ],
   "source": [
    "log.score(xtrain,ytrain)"
   ]
  },
  {
   "cell_type": "code",
   "execution_count": 25,
   "metadata": {},
   "outputs": [
    {
     "data": {
      "text/plain": [
       "0.8422185034664117"
      ]
     },
     "execution_count": 25,
     "metadata": {},
     "output_type": "execute_result"
    }
   ],
   "source": [
    "log.score(xtest,ytest)"
   ]
  },
  {
   "cell_type": "code",
   "execution_count": 26,
   "metadata": {},
   "outputs": [],
   "source": [
    "from sklearn.metrics import classification_report,confusion_matrix,f1_score,roc_auc_score,roc_curve"
   ]
  },
  {
   "cell_type": "code",
   "execution_count": 27,
   "metadata": {},
   "outputs": [
    {
     "data": {
      "text/plain": [
       "0.9142411642411641"
      ]
     },
     "execution_count": 27,
     "metadata": {},
     "output_type": "execute_result"
    }
   ],
   "source": [
    "f1_score(ytest,pred)"
   ]
  },
  {
   "cell_type": "code",
   "execution_count": 28,
   "metadata": {},
   "outputs": [
    {
     "name": "stdout",
     "output_type": "stream",
     "text": [
      "              precision    recall  f1-score   support\n",
      "\n",
      "           0       0.71      0.01      0.01      1326\n",
      "           1       0.84      1.00      0.91      7040\n",
      "\n",
      "    accuracy                           0.84      8366\n",
      "   macro avg       0.78      0.50      0.46      8366\n",
      "weighted avg       0.82      0.84      0.77      8366\n",
      "\n"
     ]
    }
   ],
   "source": [
    "print(classification_report(ytest,pred))"
   ]
  },
  {
   "cell_type": "code",
   "execution_count": 29,
   "metadata": {},
   "outputs": [
    {
     "data": {
      "text/plain": [
       "array([[  10, 1316],\n",
       "       [   4, 7036]], dtype=int64)"
      ]
     },
     "execution_count": 29,
     "metadata": {},
     "output_type": "execute_result"
    }
   ],
   "source": [
    "confusion_matrix(ytest,pred)"
   ]
  },
  {
   "cell_type": "code",
   "execution_count": 30,
   "metadata": {},
   "outputs": [
    {
     "data": {
      "text/plain": [
       "0.5034866481557658"
      ]
     },
     "execution_count": 30,
     "metadata": {},
     "output_type": "execute_result"
    }
   ],
   "source": [
    "roc_auc_score(ytest,pred)"
   ]
  },
  {
   "cell_type": "markdown",
   "metadata": {},
   "source": [
    "### Logistic Regression after Increasing the Thershold"
   ]
  },
  {
   "cell_type": "code",
   "execution_count": 30,
   "metadata": {},
   "outputs": [
    {
     "data": {
      "text/html": [
       "<div>\n",
       "<style scoped>\n",
       "    .dataframe tbody tr th:only-of-type {\n",
       "        vertical-align: middle;\n",
       "    }\n",
       "\n",
       "    .dataframe tbody tr th {\n",
       "        vertical-align: top;\n",
       "    }\n",
       "\n",
       "    .dataframe thead th {\n",
       "        text-align: right;\n",
       "    }\n",
       "</style>\n",
       "<table border=\"1\" class=\"dataframe\">\n",
       "  <thead>\n",
       "    <tr style=\"text-align: right;\">\n",
       "      <th></th>\n",
       "      <th>Not Sanctioned</th>\n",
       "      <th>Sanctioned</th>\n",
       "    </tr>\n",
       "  </thead>\n",
       "  <tbody>\n",
       "    <tr>\n",
       "      <td>0</td>\n",
       "      <td>0.106359</td>\n",
       "      <td>0.893641</td>\n",
       "    </tr>\n",
       "    <tr>\n",
       "      <td>1</td>\n",
       "      <td>0.273046</td>\n",
       "      <td>0.726954</td>\n",
       "    </tr>\n",
       "    <tr>\n",
       "      <td>2</td>\n",
       "      <td>0.316239</td>\n",
       "      <td>0.683761</td>\n",
       "    </tr>\n",
       "    <tr>\n",
       "      <td>3</td>\n",
       "      <td>0.139148</td>\n",
       "      <td>0.860852</td>\n",
       "    </tr>\n",
       "    <tr>\n",
       "      <td>4</td>\n",
       "      <td>0.146502</td>\n",
       "      <td>0.853498</td>\n",
       "    </tr>\n",
       "  </tbody>\n",
       "</table>\n",
       "</div>"
      ],
      "text/plain": [
       "   Not Sanctioned  Sanctioned\n",
       "0        0.106359    0.893641\n",
       "1        0.273046    0.726954\n",
       "2        0.316239    0.683761\n",
       "3        0.139148    0.860852\n",
       "4        0.146502    0.853498"
      ]
     },
     "execution_count": 30,
     "metadata": {},
     "output_type": "execute_result"
    }
   ],
   "source": [
    "y_pred_prob = log.predict_proba(xtest)\n",
    "y_pred_prob_df = pd.DataFrame(y_pred_prob,columns=['Not Sanctioned','Sanctioned'])\n",
    "y_pred_prob_df.head()"
   ]
  },
  {
   "cell_type": "code",
   "execution_count": 64,
   "metadata": {},
   "outputs": [
    {
     "name": "stdout",
     "output_type": "stream",
     "text": [
      "With 0.5 threshold the Confusion Matrix is  \n",
      " [[  10 1316]\n",
      " [   4 7036]] \n",
      " with 7046 correct predictions and 1316 False loan Santioned \n",
      "\n",
      " f1_score:  0.9142411642411641 ROC_AUC_score:  0.5034866481557658 \n",
      "\n",
      "\n",
      "\n",
      "With 0.6 threshold the Confusion Matrix is  \n",
      " [[  56 1270]\n",
      " [  59 6981]] \n",
      " with 7037 correct predictions and 1270 False loan Santioned \n",
      "\n",
      " f1_score:  0.9130861290955464 ROC_AUC_score:  0.5169257978541066 \n",
      "\n",
      "\n",
      "\n",
      "With 0.7 threshold the Confusion Matrix is  \n",
      " [[ 206 1120]\n",
      " [ 313 6727]] \n",
      " with 6933 correct predictions and 1120 False loan Santioned \n",
      "\n",
      " f1_score:  0.903741519446497 ROC_AUC_score:  0.5554471110996846 \n",
      "\n",
      "\n",
      "\n",
      "With 0.8 threshold the Confusion Matrix is  \n",
      " [[ 569  757]\n",
      " [1204 5836]] \n",
      " with 6405 correct predictions and 757 False loan Santioned \n",
      "\n",
      " f1_score:  0.8561578522702268 ROC_AUC_score:  0.6290436891539833 \n",
      "\n",
      "\n",
      "\n",
      "With 0.9 threshold the Confusion Matrix is  \n",
      " [[1102  224]\n",
      " [4027 3013]] \n",
      " with 4115 correct predictions and 224 False loan Santioned \n",
      "\n",
      " f1_score:  0.5863578865427654 ROC_AUC_score:  0.6295269222199369 \n",
      "\n",
      "\n",
      "\n"
     ]
    }
   ],
   "source": [
    "from sklearn.preprocessing import binarize\n",
    "for i in range(5,10):\n",
    "    cm2=0\n",
    "    y_pred_prob_yes=log.predict_proba(xtest)\n",
    "    y_pred2=binarize(y_pred_prob_yes,i/10)[:,1]\n",
    "    cm2=confusion_matrix(ytest,y_pred2)\n",
    "    f= f1_score(ytest,y_pred2)\n",
    "    r = roc_auc_score(ytest,y_pred2)\n",
    "    print ('With',i/10,'threshold the Confusion Matrix is ','\\n',cm2,'\\n',\n",
    "            'with',cm2[0,0]+cm2[1,1],'correct predictions and',cm2[0,1],'False loan Santioned','\\n\\n',\n",
    "          'f1_score: ',f,'ROC_AUC_score: ',r,'\\n\\n\\n')"
   ]
  },
  {
   "cell_type": "code",
   "execution_count": 32,
   "metadata": {},
   "outputs": [
    {
     "name": "stdout",
     "output_type": "stream",
     "text": [
      "Area Under ROC: 65.69988987727959 %\n",
      "F1 Score: 0.7871092180342362\n",
      "\n",
      "Confusion Matrix\n",
      "[[ 820  506]\n",
      " [2143 4897]]\n",
      "\n",
      "Correct Predictions: 5717\n",
      "False loan Sanctioned: 506\n"
     ]
    },
    {
     "data": {
      "image/png": "[encoded data removed]",
      "text/plain": [
       "<Figure size 432x288 with 1 Axes>"
      ]
     },
     "metadata": {
      "needs_background": "light"
     },
     "output_type": "display_data"
    }
   ],
   "source": [
    "pred_t8 = binarize(y_pred_prob,0.85)[:,1]\n",
    "fpr,tpr,thre = roc_curve(ytest,pred_t8)\n",
    "plt.plot(fpr,tpr)\n",
    "plt.xlim([0.0, 1.0])\n",
    "plt.ylim([0.0, 1.0])\n",
    "plt.title('ROC curve for Loan Sanction')\n",
    "plt.xlabel('False positive rate (1-Specificity)')\n",
    "plt.ylabel('True positive rate (Sensitivity)')\n",
    "plt.grid(True)\n",
    "print(\"Area Under ROC:\",roc_auc_score(ytest,pred_t8)*100,\"%\")\n",
    "print(\"F1 Score:\",f1_score(ytest,pred_t8))\n",
    "print()\n",
    "print(\"Confusion Matrix\")\n",
    "conma = confusion_matrix(ytest,pred_t8) \n",
    "print(conma)\n",
    "print()\n",
    "print(\"Correct Predictions:\",conma[0,0]+conma[1,1])\n",
    "print(\"False loan Sanctioned:\",conma[0,1])"
   ]
  },
  {
   "cell_type": "markdown",
   "metadata": {},
   "source": [
    "### Logistic Regression after Over-sampling"
   ]
  },
  {
   "cell_type": "code",
   "execution_count": 33,
   "metadata": {},
   "outputs": [],
   "source": [
    "from imblearn.over_sampling import SMOTE\n",
    "sm = SMOTE(random_state=7,sampling_strategy='minority')"
   ]
  },
  {
   "cell_type": "code",
   "execution_count": 34,
   "metadata": {},
   "outputs": [
    {
     "data": {
      "image/png": "[encoded data removed]",
      "text/plain": [
       "<Figure size 432x288 with 1 Axes>"
      ]
     },
     "metadata": {
      "needs_background": "light"
     },
     "output_type": "display_data"
    }
   ],
   "source": [
    "sns.countplot(ytrain)\n",
    "plt.show()"
   ]
  },
  {
   "cell_type": "code",
   "execution_count": 35,
   "metadata": {},
   "outputs": [],
   "source": [
    "xtrain_os,ytrain_os = sm.fit_resample(xtrain,ytrain)\n",
    "xtrain_os = pd.DataFrame(xtrain_os,columns=xtrain.columns)"
   ]
  },
  {
   "cell_type": "code",
   "execution_count": 36,
   "metadata": {},
   "outputs": [
    {
     "data": {
      "image/png": "[encoded data removed]",
      "text/plain": [
       "<Figure size 432x288 with 1 Axes>"
      ]
     },
     "metadata": {
      "needs_background": "light"
     },
     "output_type": "display_data"
    }
   ],
   "source": [
    "sns.countplot(list(ytrain_os))\n",
    "plt.show()"
   ]
  },
  {
   "cell_type": "code",
   "execution_count": 37,
   "metadata": {},
   "outputs": [
    {
     "data": {
      "text/plain": [
       "LogisticRegression(C=0.1, class_weight=None, dual=False, fit_intercept=True,\n",
       "                   intercept_scaling=1, l1_ratio=None, max_iter=100,\n",
       "                   multi_class='warn', n_jobs=None, penalty='l1',\n",
       "                   random_state=7, solver='warn', tol=0.0001, verbose=0,\n",
       "                   warm_start=False)"
      ]
     },
     "execution_count": 37,
     "metadata": {},
     "output_type": "execute_result"
    }
   ],
   "source": [
    "log_os = LogisticRegression(random_state=7,penalty='l1',C=0.1)\n",
    "log_os.fit(xtrain_os,ytrain_os)"
   ]
  },
  {
   "cell_type": "code",
   "execution_count": 143,
   "metadata": {},
   "outputs": [],
   "source": [
    "trsc = []\n",
    "tesc = []\n",
    "c = [0.001, 0.01, 0.1, 1, 10, 100, 1000]\n",
    "for i in c:\n",
    "    log_os = LogisticRegression(random_state=7,penalty='l1',C=i)\n",
    "    log_os.fit(xtrain_os,ytrain_os)\n",
    "    trsc.append(log_os.score(xtrain_os,ytrain_os))\n",
    "    tesc.append(log_os.score(xtest,ytest))"
   ]
  },
  {
   "cell_type": "code",
   "execution_count": 151,
   "metadata": {},
   "outputs": [
    {
     "name": "stdout",
     "output_type": "stream",
     "text": [
      "Maximum Testing accuracy is  0.653 and value of C for that is 0.1\n"
     ]
    }
   ],
   "source": [
    "print(\"Maximum Testing accuracy is \",round(max(tesc),3),\"and value of C for that is\",c[tesc.index(max(tesc))])"
   ]
  },
  {
   "cell_type": "code",
   "execution_count": 38,
   "metadata": {},
   "outputs": [],
   "source": [
    "pred_os = log_os.predict(xtest)"
   ]
  },
  {
   "cell_type": "code",
   "execution_count": 39,
   "metadata": {},
   "outputs": [
    {
     "data": {
      "text/plain": [
       "0.6530160909021582"
      ]
     },
     "execution_count": 39,
     "metadata": {},
     "output_type": "execute_result"
    }
   ],
   "source": [
    "log_os.score(xtrain_os,ytrain_os)"
   ]
  },
  {
   "cell_type": "code",
   "execution_count": 40,
   "metadata": {},
   "outputs": [
    {
     "data": {
      "text/plain": [
       "0.6547932106143916"
      ]
     },
     "execution_count": 40,
     "metadata": {},
     "output_type": "execute_result"
    }
   ],
   "source": [
    "log_os.score(xtest,ytest)"
   ]
  },
  {
   "cell_type": "code",
   "execution_count": 41,
   "metadata": {},
   "outputs": [
    {
     "data": {
      "text/plain": [
       "array([[ 882,  444],\n",
       "       [2444, 4596]], dtype=int64)"
      ]
     },
     "execution_count": 41,
     "metadata": {},
     "output_type": "execute_result"
    }
   ],
   "source": [
    "confusion_matrix(ytest,pred_os)"
   ]
  },
  {
   "cell_type": "code",
   "execution_count": 42,
   "metadata": {},
   "outputs": [
    {
     "data": {
      "text/plain": [
       "0.6589996400658166"
      ]
     },
     "execution_count": 42,
     "metadata": {},
     "output_type": "execute_result"
    }
   ],
   "source": [
    "roc_auc_score(ytest,pred_os)"
   ]
  },
  {
   "cell_type": "code",
   "execution_count": 43,
   "metadata": {},
   "outputs": [
    {
     "data": {
      "text/plain": [
       "0.7609271523178809"
      ]
     },
     "execution_count": 43,
     "metadata": {},
     "output_type": "execute_result"
    }
   ],
   "source": [
    "f1_score(ytest,pred_os)"
   ]
  },
  {
   "cell_type": "code",
   "execution_count": 44,
   "metadata": {},
   "outputs": [
    {
     "name": "stdout",
     "output_type": "stream",
     "text": [
      "Area Under ROC: 65.89996400658165 %\n",
      "F1 Score: 0.7609271523178809\n",
      "\n",
      "Confusion Matrix\n",
      "[[ 882  444]\n",
      " [2444 4596]]\n",
      "\n",
      "Correct Predictions: 5478\n",
      "False loan Sanctioned: 444\n"
     ]
    },
    {
     "data": {
      "image/png": "[encoded data removed]",
      "text/plain": [
       "<Figure size 432x288 with 1 Axes>"
      ]
     },
     "metadata": {
      "needs_background": "light"
     },
     "output_type": "display_data"
    }
   ],
   "source": [
    "fpr,tpr,thre = roc_curve(ytest,pred_os)\n",
    "plt.plot(fpr,tpr)\n",
    "plt.xlim([0.0, 1.0])\n",
    "plt.ylim([0.0, 1.0])\n",
    "plt.title('ROC curve for Loan Sanction')\n",
    "plt.xlabel('False positive rate (1-Specificity)')\n",
    "plt.ylabel('True positive rate (Sensitivity)')\n",
    "plt.grid(True)\n",
    "print(\"Area Under ROC:\",roc_auc_score(ytest,pred_os)*100,\"%\")\n",
    "print(\"F1 Score:\",f1_score(ytest,pred_os))\n",
    "print()\n",
    "print(\"Confusion Matrix\")\n",
    "conma = confusion_matrix(ytest,pred_os) \n",
    "print(conma)\n",
    "print()\n",
    "print(\"Correct Predictions:\",conma[0,0]+conma[1,1])\n",
    "print(\"False loan Sanctioned:\",conma[0,1])"
   ]
  },
  {
   "cell_type": "markdown",
   "metadata": {},
   "source": [
    "### Random Forest Classifier"
   ]
  },
  {
   "cell_type": "code",
   "execution_count": 45,
   "metadata": {},
   "outputs": [
    {
     "data": {
      "text/plain": [
       "RandomForestClassifier(bootstrap=True, class_weight=None, criterion='entropy',\n",
       "                       max_depth=None, max_features='auto', max_leaf_nodes=None,\n",
       "                       min_impurity_decrease=0.0, min_impurity_split=None,\n",
       "                       min_samples_leaf=1, min_samples_split=2,\n",
       "                       min_weight_fraction_leaf=0.0, n_estimators=10,\n",
       "                       n_jobs=None, oob_score=False, random_state=7, verbose=0,\n",
       "                       warm_start=False)"
      ]
     },
     "execution_count": 45,
     "metadata": {},
     "output_type": "execute_result"
    }
   ],
   "source": [
    "from sklearn.ensemble import RandomForestClassifier\n",
    "rf = RandomForestClassifier(random_state=7,criterion='entropy')\n",
    "rf.fit(xtrain,ytrain)"
   ]
  },
  {
   "cell_type": "code",
   "execution_count": 46,
   "metadata": {},
   "outputs": [
    {
     "data": {
      "text/plain": [
       "0.9929795649307844"
      ]
     },
     "execution_count": 46,
     "metadata": {},
     "output_type": "execute_result"
    }
   ],
   "source": [
    "rf.score(xtrain,ytrain)"
   ]
  },
  {
   "cell_type": "code",
   "execution_count": 47,
   "metadata": {},
   "outputs": [
    {
     "data": {
      "text/plain": [
       "0.8291895768587139"
      ]
     },
     "execution_count": 47,
     "metadata": {},
     "output_type": "execute_result"
    }
   ],
   "source": [
    "rf.score(xtest,ytest)"
   ]
  },
  {
   "cell_type": "code",
   "execution_count": 48,
   "metadata": {},
   "outputs": [],
   "source": [
    "pred_rf = rf.predict(xtest)"
   ]
  },
  {
   "cell_type": "code",
   "execution_count": 49,
   "metadata": {},
   "outputs": [
    {
     "data": {
      "text/plain": [
       "0.5171687534279445"
      ]
     },
     "execution_count": 49,
     "metadata": {},
     "output_type": "execute_result"
    }
   ],
   "source": [
    "roc_auc_score(ytest,pred_rf)"
   ]
  },
  {
   "cell_type": "code",
   "execution_count": 50,
   "metadata": {},
   "outputs": [
    {
     "data": {
      "text/plain": [
       "0.9056329657267385"
      ]
     },
     "execution_count": 50,
     "metadata": {},
     "output_type": "execute_result"
    }
   ],
   "source": [
    "f1_score(ytest,pred_rf)"
   ]
  },
  {
   "cell_type": "code",
   "execution_count": 51,
   "metadata": {},
   "outputs": [
    {
     "data": {
      "text/plain": [
       "array([[  80, 1246],\n",
       "       [ 183, 6857]], dtype=int64)"
      ]
     },
     "execution_count": 51,
     "metadata": {},
     "output_type": "execute_result"
    }
   ],
   "source": [
    "confusion_matrix(ytest,pred_rf)"
   ]
  },
  {
   "cell_type": "code",
   "execution_count": 52,
   "metadata": {},
   "outputs": [
    {
     "name": "stdout",
     "output_type": "stream",
     "text": [
      "Area Under ROC: 51.71687534279445 %\n",
      "F1 Score: 0.9056329657267385\n",
      "\n",
      "Confusion Matrix\n",
      "[[  80 1246]\n",
      " [ 183 6857]]\n",
      "\n",
      "Correct Predictions: 6937\n",
      "False loan Sanctioned: 1246\n"
     ]
    },
    {
     "data": {
      "image/png": "[encoded data removed]",
      "text/plain": [
       "<Figure size 432x288 with 1 Axes>"
      ]
     },
     "metadata": {
      "needs_background": "light"
     },
     "output_type": "display_data"
    }
   ],
   "source": [
    "fpr,tpr,thre = roc_curve(ytest,pred_rf)\n",
    "plt.plot(fpr,tpr)\n",
    "plt.xlim([0.0, 1.0])\n",
    "plt.ylim([0.0, 1.0])\n",
    "plt.title('ROC curve for Loan Sanction')\n",
    "plt.xlabel('False positive rate (1-Specificity)')\n",
    "plt.ylabel('True positive rate (Sensitivity)')\n",
    "plt.grid(True)\n",
    "print(\"Area Under ROC:\",roc_auc_score(ytest,pred_rf)*100,\"%\")\n",
    "print(\"F1 Score:\",f1_score(ytest,pred_rf))\n",
    "print()\n",
    "print(\"Confusion Matrix\")\n",
    "conma = confusion_matrix(ytest,pred_rf) \n",
    "print(conma)\n",
    "print()\n",
    "print(\"Correct Predictions:\",conma[0,0]+conma[1,1])\n",
    "print(\"False loan Sanctioned:\",conma[0,1])"
   ]
  },
  {
   "cell_type": "markdown",
   "metadata": {},
   "source": [
    "### Random Forest Classifier after Increasing the Thershold"
   ]
  },
  {
   "cell_type": "code",
   "execution_count": 53,
   "metadata": {},
   "outputs": [
    {
     "data": {
      "text/html": [
       "<div>\n",
       "<style scoped>\n",
       "    .dataframe tbody tr th:only-of-type {\n",
       "        vertical-align: middle;\n",
       "    }\n",
       "\n",
       "    .dataframe tbody tr th {\n",
       "        vertical-align: top;\n",
       "    }\n",
       "\n",
       "    .dataframe thead th {\n",
       "        text-align: right;\n",
       "    }\n",
       "</style>\n",
       "<table border=\"1\" class=\"dataframe\">\n",
       "  <thead>\n",
       "    <tr style=\"text-align: right;\">\n",
       "      <th></th>\n",
       "      <th>Not Sanctioned</th>\n",
       "      <th>Sanctioned</th>\n",
       "    </tr>\n",
       "  </thead>\n",
       "  <tbody>\n",
       "    <tr>\n",
       "      <td>0</td>\n",
       "      <td>0.106359</td>\n",
       "      <td>0.893641</td>\n",
       "    </tr>\n",
       "    <tr>\n",
       "      <td>1</td>\n",
       "      <td>0.273046</td>\n",
       "      <td>0.726954</td>\n",
       "    </tr>\n",
       "    <tr>\n",
       "      <td>2</td>\n",
       "      <td>0.316239</td>\n",
       "      <td>0.683761</td>\n",
       "    </tr>\n",
       "    <tr>\n",
       "      <td>3</td>\n",
       "      <td>0.139148</td>\n",
       "      <td>0.860852</td>\n",
       "    </tr>\n",
       "    <tr>\n",
       "      <td>4</td>\n",
       "      <td>0.146502</td>\n",
       "      <td>0.853498</td>\n",
       "    </tr>\n",
       "  </tbody>\n",
       "</table>\n",
       "</div>"
      ],
      "text/plain": [
       "   Not Sanctioned  Sanctioned\n",
       "0        0.106359    0.893641\n",
       "1        0.273046    0.726954\n",
       "2        0.316239    0.683761\n",
       "3        0.139148    0.860852\n",
       "4        0.146502    0.853498"
      ]
     },
     "execution_count": 53,
     "metadata": {},
     "output_type": "execute_result"
    }
   ],
   "source": [
    "rf_pred_prob = rf.predict_proba(xtest)\n",
    "rf_pred_prob_df = pd.DataFrame(y_pred_prob,columns=['Not Sanctioned','Sanctioned'])\n",
    "rf_pred_prob_df.head()"
   ]
  },
  {
   "cell_type": "code",
   "execution_count": 65,
   "metadata": {},
   "outputs": [
    {
     "name": "stdout",
     "output_type": "stream",
     "text": [
      "With 0.5 threshold the Confusion Matrix is  \n",
      " [[  80 1246]\n",
      " [ 183 6857]] \n",
      " with 6937 correct predictions and 1246 False loan Sanctioned \n",
      "\n",
      " f1_score:  0.9056329657267385 ROC_AUC_score:  0.5171687534279445 \n",
      "\n",
      "\n",
      "\n",
      "With 0.6 threshold the Confusion Matrix is  \n",
      " [[ 218 1108]\n",
      " [ 550 6490]] \n",
      " with 6708 correct predictions and 1108 False loan Sanctioned \n",
      "\n",
      " f1_score:  0.8867331602677961 ROC_AUC_score:  0.5431396116138762 \n",
      "\n",
      "\n",
      "\n",
      "With 0.7 threshold the Confusion Matrix is  \n",
      " [[ 433  893]\n",
      " [1355 5685]] \n",
      " with 6118 correct predictions and 893 False loan Sanctioned \n",
      "\n",
      " f1_score:  0.8349243648112792 ROC_AUC_score:  0.5670372060537501 \n",
      "\n",
      "\n",
      "\n",
      "With 0.8 threshold the Confusion Matrix is  \n",
      " [[ 767  559]\n",
      " [2712 4328]] \n",
      " with 5095 correct predictions and 559 False loan Sanctioned \n",
      "\n",
      " f1_score:  0.7257483021715435 ROC_AUC_score:  0.5966020499108734 \n",
      "\n",
      "\n",
      "\n",
      "With 0.9 threshold the Confusion Matrix is  \n",
      " [[1108  218]\n",
      " [4794 2246]] \n",
      " with 3354 correct predictions and 218 False loan Sanctioned \n",
      "\n",
      " f1_score:  0.47264309764309764 ROC_AUC_score:  0.5773149338406691 \n",
      "\n",
      "\n",
      "\n"
     ]
    }
   ],
   "source": [
    "from sklearn.preprocessing import binarize\n",
    "for i in range(5,10):\n",
    "    cm2=0\n",
    "    rf_pred_prob_yes=rf.predict_proba(xtest)\n",
    "    rf_pred2=binarize(rf_pred_prob_yes,i/10)[:,1]\n",
    "    cm2=confusion_matrix(ytest,rf_pred2)\n",
    "    f= f1_score(ytest,rf_pred2)\n",
    "    r = roc_auc_score(ytest,rf_pred2)\n",
    "    print ('With',i/10,'threshold the Confusion Matrix is ','\\n',cm2,'\\n',\n",
    "            'with',cm2[0,0]+cm2[1,1],'correct predictions and',cm2[0,1],'False loan Sanctioned','\\n\\n',\n",
    "          'f1_score: ',f,'ROC_AUC_score: ',r,'\\n\\n\\n')"
   ]
  },
  {
   "cell_type": "code",
   "execution_count": 55,
   "metadata": {},
   "outputs": [
    {
     "name": "stdout",
     "output_type": "stream",
     "text": [
      "Area Under ROC: 59.66020499108734 %\n",
      "F1 Score: 0.7257483021715435\n",
      "\n",
      "Confusion Matrix\n",
      "[[ 767  559]\n",
      " [2712 4328]]\n",
      "\n",
      "Correct Predictions: 5095\n",
      "False loan Sanctioned: 559\n"
     ]
    },
    {
     "data": {
      "image/png": "[encoded data removed]",
      "text/plain": [
       "<Figure size 432x288 with 1 Axes>"
      ]
     },
     "metadata": {
      "needs_background": "light"
     },
     "output_type": "display_data"
    }
   ],
   "source": [
    "pred_rft = binarize(rf_pred_prob,0.8)[:,1]\n",
    "fpr,tpr,thre = roc_curve(ytest,pred_rft)\n",
    "plt.plot(fpr,tpr)\n",
    "plt.xlim([0.0, 1.0])\n",
    "plt.ylim([0.0, 1.0])\n",
    "plt.title('ROC curve for Loan Sanction')\n",
    "plt.xlabel('False positive rate (1-Specificity)')\n",
    "plt.ylabel('True positive rate (Sensitivity)')\n",
    "plt.grid(True)\n",
    "print(\"Area Under ROC:\",roc_auc_score(ytest,pred_rft)*100,\"%\")\n",
    "print(\"F1 Score:\",f1_score(ytest,pred_rft))\n",
    "print()\n",
    "print(\"Confusion Matrix\")\n",
    "conma = confusion_matrix(ytest,pred_rft) \n",
    "print(conma)\n",
    "print()\n",
    "print(\"Correct Predictions:\",conma[0,0]+conma[1,1])\n",
    "print(\"False loan Sanctioned:\",conma[0,1])"
   ]
  },
  {
   "cell_type": "markdown",
   "metadata": {},
   "source": [
    "### Random Forest Classifier after Over- Sampling"
   ]
  },
  {
   "cell_type": "code",
   "execution_count": 56,
   "metadata": {},
   "outputs": [
    {
     "data": {
      "text/plain": [
       "RandomForestClassifier(bootstrap=True, class_weight=None, criterion='entropy',\n",
       "                       max_depth=None, max_features='auto', max_leaf_nodes=None,\n",
       "                       min_impurity_decrease=0.0, min_impurity_split=None,\n",
       "                       min_samples_leaf=1, min_samples_split=2,\n",
       "                       min_weight_fraction_leaf=0.0, n_estimators=10,\n",
       "                       n_jobs=None, oob_score=False, random_state=7, verbose=0,\n",
       "                       warm_start=False)"
      ]
     },
     "execution_count": 56,
     "metadata": {},
     "output_type": "execute_result"
    }
   ],
   "source": [
    "from sklearn.ensemble import RandomForestClassifier\n",
    "rf1 = RandomForestClassifier(random_state=7,criterion='entropy')\n",
    "rf1.fit(xtrain_os,ytrain_os)"
   ]
  },
  {
   "cell_type": "code",
   "execution_count": 57,
   "metadata": {},
   "outputs": [
    {
     "data": {
      "text/plain": [
       "0.9967398764584763"
      ]
     },
     "execution_count": 57,
     "metadata": {},
     "output_type": "execute_result"
    }
   ],
   "source": [
    "rf1.score(xtrain_os,ytrain_os)"
   ]
  },
  {
   "cell_type": "code",
   "execution_count": 58,
   "metadata": {},
   "outputs": [
    {
     "data": {
      "text/plain": [
       "0.8201051876643557"
      ]
     },
     "execution_count": 58,
     "metadata": {},
     "output_type": "execute_result"
    }
   ],
   "source": [
    "rf1.score(xtest,ytest)"
   ]
  },
  {
   "cell_type": "code",
   "execution_count": 59,
   "metadata": {},
   "outputs": [],
   "source": [
    "pred_rf_os = rf1.predict(xtest)"
   ]
  },
  {
   "cell_type": "code",
   "execution_count": 60,
   "metadata": {},
   "outputs": [
    {
     "data": {
      "text/plain": [
       "0.5344188134169752"
      ]
     },
     "execution_count": 60,
     "metadata": {},
     "output_type": "execute_result"
    }
   ],
   "source": [
    "roc_auc_score(ytest,pred_rf_os)"
   ]
  },
  {
   "cell_type": "code",
   "execution_count": 61,
   "metadata": {},
   "outputs": [
    {
     "data": {
      "text/plain": [
       "0.8991219250620014"
      ]
     },
     "execution_count": 61,
     "metadata": {},
     "output_type": "execute_result"
    }
   ],
   "source": [
    "f1_score(ytest,pred_rf_os)"
   ]
  },
  {
   "cell_type": "code",
   "execution_count": 62,
   "metadata": {},
   "outputs": [
    {
     "data": {
      "text/plain": [
       "array([[ 154, 1172],\n",
       "       [ 333, 6707]], dtype=int64)"
      ]
     },
     "execution_count": 62,
     "metadata": {},
     "output_type": "execute_result"
    }
   ],
   "source": [
    "confusion_matrix(ytest,pred_rf_os)"
   ]
  },
  {
   "cell_type": "code",
   "execution_count": 63,
   "metadata": {},
   "outputs": [
    {
     "name": "stdout",
     "output_type": "stream",
     "text": [
      "Area Under ROC: 53.44188134169752 %\n",
      "F1 Score: 0.8991219250620014\n",
      "\n",
      "Confusion Matrix\n",
      "[[ 154 1172]\n",
      " [ 333 6707]]\n",
      "\n",
      "Correct Predictions: 6861\n",
      "False loan Sanctioned: 1172\n"
     ]
    },
    {
     "data": {
      "image/png": "[encoded data removed]",
      "text/plain": [
       "<Figure size 432x288 with 1 Axes>"
      ]
     },
     "metadata": {
      "needs_background": "light"
     },
     "output_type": "display_data"
    }
   ],
   "source": [
    "fpr,tpr,thre = roc_curve(ytest,pred_rf_os)\n",
    "plt.plot(fpr,tpr)\n",
    "plt.xlim([0.0, 1.0])\n",
    "plt.ylim([0.0, 1.0])\n",
    "plt.title('ROC curve for Loan Sanction')\n",
    "plt.xlabel('False positive rate (1-Specificity)')\n",
    "plt.ylabel('True positive rate (Sensitivity)')\n",
    "plt.grid(True)\n",
    "print(\"Area Under ROC:\",roc_auc_score(ytest,pred_rf_os)*100,\"%\")\n",
    "print(\"F1 Score:\",f1_score(ytest,pred_rf_os))\n",
    "print()\n",
    "print(\"Confusion Matrix\")\n",
    "conma = confusion_matrix(ytest,pred_rf_os) \n",
    "print(conma)\n",
    "print()\n",
    "print(\"Correct Predictions:\",conma[0,0]+conma[1,1])\n",
    "print(\"False loan Sanctioned:\",conma[0,1])"
   ]
  },
  {
   "cell_type": "code",
   "execution_count": null,
   "metadata": {},
   "outputs": [],
   "source": []
  }
 ],
 "metadata": {
  "kernelspec": {
   "display_name": "Python 3",
   "language": "python",
   "name": "python3"
  },
  "language_info": {
   "codemirror_mode": {
    "name": "ipython",
    "version": 3
   },
   "file_extension": ".py",
   "mimetype": "text/x-python",
   "name": "python",
   "nbconvert_exporter": "python",
   "pygments_lexer": "ipython3",
   "version": "3.7.4"
  }
 },
 "nbformat": 4,
 "nbformat_minor": 2
}
